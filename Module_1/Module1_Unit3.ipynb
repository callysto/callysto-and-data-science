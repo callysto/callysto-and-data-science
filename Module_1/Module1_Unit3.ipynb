{
 "cells": [
  {
   "cell_type": "markdown",
   "id": "57f03a22-aedd-4fdd-ae79-af75722a3dd0",
   "metadata": {},
   "source": [
    "![Callysto.ca Banner](https://github.com/callysto/curriculum-notebooks/blob/master/callysto-notebook-banner-top.jpg?raw=true)"
   ]
  },
  {
   "cell_type": "markdown",
   "id": "9a711085-097f-460b-b501-b591f2bbc416",
   "metadata": {},
   "source": [
    "# Module 1 Unit 3 - Data Science and Critical Thinking\n",
    "\n",
    "## Data Science and Critical Thinking\n",
    " \n",
    "Data science can be a powerful critical thinking tool, but mistakes or distortions can also mislead us. Just as we teach students media literacy and fact-checking, it’s important to introduce students to critical thinking about data science.\n",
    "\n",
    "![Elvis](../_images/Module1-Unit3-image.jpeg)\n",
    "\n",
    "Let's say we wanted to use data to predict the number of Elvis impersonators at some point in the future. From our research, we learn that in 1977 there were 170 Elvis impersonators and in the year 2000 there were about 85,000.\n",
    "\n",
    "Assuming **exponential** growth, we would extrapolate that by 2020 there should have been 21,912,675 Elvis impersonators.\n",
    "\n",
    "*A line chart using historical data to predict the exponential growth of Elivs impersonators by the year 2020. According to a exponential-growth model, there would be 21,912,675 impersonators in 2020.*\n",
    "\n",
    "![historicaldata](../_images/Module1-Unit3-image1.png)\n",
    "\n",
    "That's a lot of Elvises! (Elvi?)\n",
    "\n",
    "A more conservative estimate might assume linear growth, but even then, that would mean a worldwide total of 141,621 Elvis impersonators in 2020.\n",
    "\n",
    "*A line chart using historical data to predict linear growth of Elvis impersonators by 2020. According to a linear-growth model. there would be 141,621 Elivis impersonators by 2020.*\n",
    "\n",
    "![historicaldata2](../_images/Module1-Unit3-image2.png)\n",
    "\n",
    "This prediction is obviously very silly, but they serve as a reminder that predictive analytics is not simple or easy.\n",
    "\n",
    "![cartoon](../_images/Module1-Unit3-image3.png)\n",
    "\n",
    "*“Extrapolating” by XKCD is licensed under CC BY-NC 2.5*\n",
    "\n",
    "### Media\n",
    "\n",
    "\n",
    "\n",
    "### 🏷️ Activity\n",
    "\n",
    "\n",
    "\n",
    "### Conclusion\n",
    "\n"
   ]
  },
  {
   "cell_type": "markdown",
   "id": "d55e408c-db2a-42bb-9426-fd5cf38946a4",
   "metadata": {},
   "source": [
    "[![Callysto.ca License](https://github.com/callysto/curriculum-notebooks/blob/master/callysto-notebook-banner-bottom.jpg?raw=true)](https://github.com/callysto/curriculum-notebooks/blob/master/LICENSE.md)"
   ]
  }
 ],
 "metadata": {
  "kernelspec": {
   "display_name": "Python 3 (ipykernel)",
   "language": "python",
   "name": "python3"
  },
  "language_info": {
   "codemirror_mode": {
    "name": "ipython",
    "version": 3
   },
   "file_extension": ".py",
   "mimetype": "text/x-python",
   "name": "python",
   "nbconvert_exporter": "python",
   "pygments_lexer": "ipython3",
   "version": "3.9.12"
  }
 },
 "nbformat": 4,
 "nbformat_minor": 5
}
