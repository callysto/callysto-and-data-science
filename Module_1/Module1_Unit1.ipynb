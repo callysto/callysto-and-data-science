{
 "cells": [
  {
   "cell_type": "markdown",
   "id": "57f03a22-aedd-4fdd-ae79-af75722a3dd0",
   "metadata": {},
   "source": [
    "![Callysto.ca Banner](https://github.com/callysto/curriculum-notebooks/blob/master/callysto-notebook-banner-top.jpg?raw=true)"
   ]
  },
  {
   "cell_type": "markdown",
   "id": "9a711085-097f-460b-b501-b591f2bbc416",
   "metadata": {},
   "source": [
    "# Module 1 Unit 1 - What is Data Science?\n",
    "\n",
    "## Welcome to Callysto's Data Science in Your Classroom \n",
    "*As technology has advanced, data has become easier to collect, store, and access.*"
   ]
  },
  {
   "cell_type": "code",
   "execution_count": 2,
   "id": "1f00ab6c-d4ef-4302-8666-6882a02b76c7",
   "metadata": {},
   "outputs": [
    {
     "data": {
      "image/jpeg": "[encoded data removed]",
      "text/html": [
       "\n",
       "        <iframe\n",
       "            width=\"400\"\n",
       "            height=\"300\"\n",
       "            src=\"https://www.youtube.com/embed/soXsGmAIwuE\"\n",
       "            frameborder=\"0\"\n",
       "            allowfullscreen\n",
       "            \n",
       "        ></iframe>\n",
       "        "
      ],
      "text/plain": [
       "<IPython.lib.display.YouTubeVideo at 0x7fabb15f0fd0>"
      ]
     },
     "execution_count": 2,
     "metadata": {},
     "output_type": "execute_result"
    }
   ],
   "source": [
    "from IPython.display import YouTubeVideo\n",
    "YouTubeVideo('soXsGmAIwuE')"
   ]
  },
  {
   "cell_type": "markdown",
   "id": "170649f7-9a47-45ec-aebd-6fe042dd8ba5",
   "metadata": {},
   "source": [
    "### Key Term: Data\n",
    "\n",
    ">By data we mean units of information collected through observation. It can be quantitative, such as the total number pizzas delivered in a night, or qualitative, such as the kinds of pizza toppings available.\n",
    "\n",
    "Today, humanity is generating a lot of data, and doing it faster than ever. In fact, a significant fraction of all the data we’ve ever created was likely created in the past year.\n",
    "\n",
    "Understanding and making use of this huge amount of information is a challenge, but the rewards for doing so can be great. Insights from data can help us make decisions, reveal problems and potential solutions, recognize trends, and prepare for the future.\n",
    "\n",
    "### 🎥 Watch\n",
    "\n",
    ">This 11-minute video provides a compact overview of the history of big data and how it impacts our lives today, and is a potentially useful class resource.Intro to Big Data: Crash Course Statistics "
   ]
  },
  {
   "cell_type": "code",
   "execution_count": 3,
   "id": "8c998699-e998-4849-b106-48a94569185b",
   "metadata": {},
   "outputs": [
    {
     "data": {
      "text/html": [
       "\n",
       "        <iframe\n",
       "            width=\"400\"\n",
       "            height=\"300\"\n",
       "            src=\"https://www.youtube.com/embed/v=vku2Bw7Vkfs\"\n",
       "            frameborder=\"0\"\n",
       "            allowfullscreen\n",
       "            \n",
       "        ></iframe>\n",
       "        "
      ],
      "text/plain": [
       "<IPython.lib.display.YouTubeVideo at 0x7fabb15f0370>"
      ]
     },
     "execution_count": 3,
     "metadata": {},
     "output_type": "execute_result"
    }
   ],
   "source": [
    "from IPython.display import YouTubeVideo\n",
    "YouTubeVideo('v=vku2Bw7Vkfs')"
   ]
  },
  {
   "cell_type": "markdown",
   "id": "f69d33cb-66e8-41ae-a388-da0109ea04bf",
   "metadata": {},
   "source": [
    "Because of this, there’s a growing demand for data science skills—analyzing, interpreting, and problem-solving using data. In 2019, the job search website Indeed.com reported that data science job postings had more than tripled in the previous five years.\n",
    "\n",
    "### 📚 Read\n",
    "\n",
    ">[Data Scientist: A Hot Job That Pays Well](https://recruiting-indeed.de/wp-content/uploads/2020/06/Data-Scientist-report-final-PDF.pdf)"
   ]
  },
  {
   "cell_type": "markdown",
   "id": "4525a5c6-8501-4711-91c8-2f86933253a1",
   "metadata": {},
   "source": [
    "While professional Data Scientists often have a significant amount of post-secondary education in fields such as mathematics or computing, most people can apply data science methods with only:\n",
    "\n",
    "1.  Some knowledge about the subject you are exploring\n",
    "\n",
    "1. A basic understanding of statistics\n",
    "\n",
    "1. Basic programming skills\n",
    "\n",
    "This course will help you with 2 and 3.\n",
    "\n",
    "Let's get started!\n",
    "\n",
    "***\n",
    "\n",
    "### 💭 Have Questions?\n",
    "\n",
    "Click the Help button at the top right of the course to view our FAQ! \n",
    "\n",
    "Topics include: \n",
    "\n",
    "* Navigating the Callysto Hub \n",
    "* Using Jupyter Notebooks \n",
    "* Coding \n",
    "* The Callysto Project \n",
    "\n",
    "You might also wish to bookmark the FAQ page for easy reference as you work through exercises or as a reference when using these tools in the future!"
   ]
  },
  {
   "cell_type": "markdown",
   "id": "d55e408c-db2a-42bb-9426-fd5cf38946a4",
   "metadata": {},
   "source": [
    "[![Callysto.ca License](https://github.com/callysto/curriculum-notebooks/blob/master/callysto-notebook-banner-bottom.jpg?raw=true)](https://github.com/callysto/curriculum-notebooks/blob/master/LICENSE.md)"
   ]
  }
 ],
 "metadata": {
  "kernelspec": {
   "display_name": "Python 3 (ipykernel)",
   "language": "python",
   "name": "python3"
  },
  "language_info": {
   "codemirror_mode": {
    "name": "ipython",
    "version": 3
   },
   "file_extension": ".py",
   "mimetype": "text/x-python",
   "name": "python",
   "nbconvert_exporter": "python",
   "pygments_lexer": "ipython3",
   "version": "3.9.12"
  }
 },
 "nbformat": 4,
 "nbformat_minor": 5
}
