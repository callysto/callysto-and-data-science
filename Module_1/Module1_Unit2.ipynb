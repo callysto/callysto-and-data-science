{
 "cells": [
  {
   "cell_type": "markdown",
   "id": "57f03a22-aedd-4fdd-ae79-af75722a3dd0",
   "metadata": {},
   "source": [
    "![Callysto.ca Banner](https://github.com/callysto/curriculum-notebooks/blob/master/callysto-notebook-banner-top.jpg?raw=true)"
   ]
  },
  {
   "cell_type": "markdown",
   "id": "9a711085-097f-460b-b501-b591f2bbc416",
   "metadata": {},
   "source": [
    "# Module 1 Unit 2 - The Value of Data Science\n",
    "\n",
    "## Welcome to Callysto's Data Science in Your Classroom \n",
    "\n",
    "Data science allows us to understand our world better.\n",
    "\n",
    "Let's go back to the earlier example of the Human Terrain project. The extruded population maps allow for rapid understanding of the size of different communities. For example, the greater Vancouver area is much more populous than BC's capital, Victoria, covering not only a larger area but packing far more people into blocks in central areas.\n",
    "\n",
    "*The population of Victoria and the greater Vancouver area visualized in 3D*\n",
    "\n",
    "![Victoria Population](../_images/Module1-Unit2-image.png)\n",
    "\n",
    "Let’s further explore data science, its impact, and how it relates to education.\n",
    "\n",
    "### Data-informed decision making\n",
    "\n",
    "You may have heard the phrase data-informed decision making. This is when we use insights from data to help us choose a course of action.\n",
    "\n",
    "For example, you might review a utility bill for your home and notice that electricity usage is higher than you expected. This could motivate you to look for problems with your fridge or freezer doors, or turn off the heat and AC when on vacation.\n",
    "\n",
    "Of course it is not always our decisions that affect our lives. The decisions others make, whether they are data-informed or even **algorithm-influenced**, can impact us in subtle or overt ways.\n",
    "\n",
    "![Tablet](../_images/Module1-Unit2-image2.jpeg)\n",
    "\n",
    "\n",
    "Some examples of the impact of data science include watch next recommendations on video streaming services, automated language translation, weather forecasting, credit card fraud protection, and even anticipatory shipping.\n",
    "\n",
    "In many places of employment, data-informed decision making is considered ideal. Rather than relying solely on the best guesses of people with experience or higher-paid positions, staff or managers can review data to gain insights on sales trends, compare the prices of different products, or identify areas of a production line that create bottlenecks before making decisions.\n",
    "\n",
    "### Data science in education\n",
    "\n",
    "Data is a big part of a teacher's job. Summative assessments, such as written work and other products, observations, and conversations allow us to determine student grades and design activities and lessons. Some online learning platforms even provide analytics to help teachers optimize instruction for the specific needs of individual students.\n",
    "\n",
    "School administrators also use data to help them carry out their roles. For example, they may use it to evaluate the performance of pre-service and new teachers or to communicate with parents about issues such as significant numbers of lates and absences.\n",
    "\n",
    "![SchoolPoll](../_images/Module1-Unit2-image3.png)\n",
    "\n",
    "For students, an understanding of data science is likely important for their future careers. In the same way that computational thinking is involved in many aspects of current and upcoming jobs, the increasing availability and prevalence of data means that the demand for data science skills is on the rise.\n",
    "\n",
    "It's not just about preparing students for the job market. The ability to answer questions with data and then form new questions to explore is an important skill that helps us engage with the world around us and contribute to our communities.\n",
    "\n",
    "### 🏷️ Activity\n",
    "\n",
    "Talk with someone, for example students, colleagues or friends, about examples of data science such as [Amazon’s Anticipatory Shipping](https://techcrunch.com/2014/01/18/amazon-pre-ships/) \n",
    "\n",
    "![Amazontruck](../_images/Module1-Unit2-image4.jpeg)\n",
    "\n",
    "### Conclusion\n",
    "\n",
    "Data science is becoming increasingly important in our world, and particularly in education. In the next unit, we will discuss how data science relates to the crucial skill of critical thinking."
   ]
  },
  {
   "cell_type": "markdown",
   "id": "d55e408c-db2a-42bb-9426-fd5cf38946a4",
   "metadata": {},
   "source": [
    "[![Callysto.ca License](https://github.com/callysto/curriculum-notebooks/blob/master/callysto-notebook-banner-bottom.jpg?raw=true)](https://github.com/callysto/curriculum-notebooks/blob/master/LICENSE.md)"
   ]
  }
 ],
 "metadata": {
  "kernelspec": {
   "display_name": "Python 3 (ipykernel)",
   "language": "python",
   "name": "python3"
  },
  "language_info": {
   "codemirror_mode": {
    "name": "ipython",
    "version": 3
   },
   "file_extension": ".py",
   "mimetype": "text/x-python",
   "name": "python",
   "nbconvert_exporter": "python",
   "pygments_lexer": "ipython3",
   "version": "3.9.12"
  }
 },
 "nbformat": 4,
 "nbformat_minor": 5
}
