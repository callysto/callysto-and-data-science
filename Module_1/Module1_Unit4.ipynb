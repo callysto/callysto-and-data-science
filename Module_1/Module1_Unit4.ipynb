{
 "cells": [
  {
   "cell_type": "markdown",
   "id": "57f03a22-aedd-4fdd-ae79-af75722a3dd0",
   "metadata": {},
   "source": [
    "![Callysto.ca Banner](https://github.com/callysto/curriculum-notebooks/blob/master/callysto-notebook-banner-top.jpg?raw=true)"
   ]
  },
  {
   "cell_type": "markdown",
   "id": "9a711085-097f-460b-b501-b591f2bbc416",
   "metadata": {},
   "source": [
    "# Module 1 Unit 4 - Framing a Data Science Question\n",
    "\n",
    "## Framing a Data Science Question\n",
    " \n",
    "Now that we're more familiar with the applications and potential risks of data science, let's look at what it takes to get started.\n",
    "\n",
    "### Sharp questions\n",
    "\n",
    "Science of any kind begins with asking a question, but the question needs to be framed so that it is asking for information that is both specific and measurable. These are sometimes referred to as **sharp questions.**\n",
    "\n",
    "The question \"What should we have students do in math class?\" is vague and open-ended. Looking for answers with data would be difficult.\n",
    "\n",
    "A better question might be \"During the workshop portion of math class, what method should we use to arrange students into groups?\"\n",
    "\n",
    "A sharp question will give you a sense of what type of data you would need to answer it. In the case of the second question, you might need a list of different student grouping methods and some metrics that would help indicate how successful they were.\n",
    "\n",
    "| Method                          | Time it took to form groups | Time group took to finish exercise | Average group exercise score |\n",
    "|---------------------------------|-----------------------------|------------------------------------|------------------------------|\n",
    "| Students pick their own groups | n                           | x                                  | y                            |\n",
    "| Group by seat row               | n                           | x                                  | y                            |\n",
    "| Group by position on class list | n                           | x                                  | y                            |\n",
    "| Randomly assigned number        | n                           | x                                  | y                            |\n",
    "\n",
    "### Data availability\n",
    "\n",
    "To do data science, we'll need some data to work with. If a question doesn't use data that can be easily found online or collected as a class activity, it might be worth changing or revising it.\n",
    "\n",
    "![data availability](../_images/Module1-Unit4-image.png)\n",
    "\n",
    "*[“Tasks”](https://xkcd.com/1425/) by [XKCD](https://xkcd.com/) is licensed under [CC BY-NC 2.5](https://creativecommons.org/licenses/by-nc/2.5/)*\n",
    "\n",
    "Data science professionals are often asked to work with data sets that already exist. Coming up with questions that make good use of a data set that was not originally collected with these questions in mind is a great example of creative thinking and problem solving.\n",
    "\n",
    "There are many organizations that make real data they have collected as part of their operations publicly available online.\n",
    "\n",
    "For example, the Government of Canada, along with provincial, territorial, and municipal governments have open data portals where anyone can view and access data sets governments have created.\n",
    "\n",
    "* [Canada Open Data](https://open.canada.ca/en/open-data)\n",
    "\n",
    "In most cases, we can easily find the websites that host these data sets by simply doing an online search for the country, region, or community name plus \"open data.\"\n",
    "\n",
    "Many post-secondary and research institutions, scientific organizations, and specific governmental agencies also make data available for public use.\n",
    "\n",
    "**Examples of data sources**\n",
    "\n",
    "* [Statistics Canada](https://www150.statcan.gc.ca/n1/en/type/data?MM=1)\n",
    "* [Gapminder](https://www.gapminder.org/)\n",
    "* [Billion Prices Project](http://www.thebillionpricesproject.com/)\n",
    "* [Pew Research](https://www.pewresearch.org/download-datasets/)\n",
    "* [Kaggle](https://www.kaggle.com/datasets)\n",
    "* Sports data sets for [baseball](https://www.baseball-reference.com/), [hockey](https://www.hockey-reference.com/), and [basketball](https://www.basketball-reference.com/)\n",
    "* Wikipedia tables\n",
    "\n",
    "We'll explore sources of data in more detail in the next module.\n",
    "\n",
    "### A note about data ownership\n",
    "\n",
    "Just like a video, photograph, book, or other form of media, data is considered to be property. Organizations are increasingly recognizing data sets as business assets and are controlling who is permitted to access and use them.\n",
    "\n",
    "Just like a video, photograph, book, or other form of media, data is considered to be property. Organizations are increasingly recognizing data sets as business assets and are controlling who is permitted to access and use them.\n",
    "\n",
    "![data image](../_images/Module1-Unit4-image1.jpeg)\n",
    "\n",
    "### 📚 Read\n",
    "\n",
    ">The website data.world provides a list of [common license types for data sets](https://help.data.world/hc/en-us/articles/115006114287-Common-license-types-for-datasets) and details about their restrictions.\n",
    "\n",
    "### Choosing great data science questions\n",
    "\n",
    "As we explored in earlier units, insights from data science can help us make better decisions than if we only had gut feelings or incomplete information to go by.\n",
    "\n",
    "That said, our instincts and emotions can be a great resource for helping us design questions that are exciting, that relate to our interests or the interests of our students.\n",
    "\n",
    "Many of us already do this when planning lessons or when teaching students about science experiments. When considering what questions could be explored using data science, try asking:\n",
    "\n",
    "person in a lab coat conducting a science experiment\n",
    "\n",
    "* What is an observation, fact, or topic we feel curious about?\n",
    "* What kind of variables might impact that observation?\n",
    "* Are those variables measurable?\n",
    "* Are data sets related to this question or group already available?\n",
    "* What kind of benefits might an analysis of this data have? Is there a way it could help us or help others make decisions?\n",
    "\n",
    "![lab](../_images/Module1-Unit4-image2.jpeg)\n",
    "\n",
    "**Let's look at a quick example.**\n",
    "\n",
    "Alyssa is curious about the factors that can strengthen or weaken a country's economy, and wonders if the health of residents has a clear impact.\n",
    "\n",
    "On the Gapminder website she finds data that compares income and life expectancy by country over time.\n",
    "\n",
    "In the visualization generated by [Gapminder](https://www.gapminder.org/tools/#$chart-type=bubbles), she notices that both measures have improved over the last 200 years, and that as income (per capita GDP) increases, the average life expectancy increases.\n",
    "\n",
    "She concludes that there is a correlation between income and life expectancy, and that this indicates that there may also be a relationship between initiatives that are known to impact life expectancy and economic output.\n",
    "\n",
    "### 🎥 Watch\n",
    "\n",
    "> In this 5 minute video, Instructor David Hay explores additional Gapminder data using Jupyter notebooks and looks into the relationship between birth rates and child mortality."
   ]
  },
  {
   "cell_type": "code",
   "execution_count": 2,
   "id": "d443e9ac-13c3-4677-be81-fff47f551e94",
   "metadata": {},
   "outputs": [
    {
     "data": {
      "image/jpeg": "[encoded data removed]",
      "text/html": [
       "\n",
       "        <iframe\n",
       "            width=\"400\"\n",
       "            height=\"300\"\n",
       "            src=\"https://www.youtube.com/embed/o8JEHJaDg4o\"\n",
       "            frameborder=\"0\"\n",
       "            allowfullscreen\n",
       "            \n",
       "        ></iframe>\n",
       "        "
      ],
      "text/plain": [
       "<IPython.lib.display.YouTubeVideo at 0x7f86a9c75fa0>"
      ]
     },
     "execution_count": 2,
     "metadata": {},
     "output_type": "execute_result"
    }
   ],
   "source": [
    "from IPython.display import YouTubeVideo\n",
    "YouTubeVideo('o8JEHJaDg4o')"
   ]
  },
  {
   "cell_type": "markdown",
   "id": "5ef35a39-2bbb-4d95-9d6c-d7cca0740047",
   "metadata": {},
   "source": [
    "Here are some other examples of data science questions we could explore with students as part of our regular curriculum:\n",
    "\n",
    "* Does weather affect voter turnout?\n",
    "* How many 10-digit prime numbers exist?\n",
    "* What are the dominant tree species in a neighbourhood?\n",
    "* In Shakespeare's Hamlet, which characters speak the most?\n",
    "* Is a hockey player's salary correlated to the number of points they earn?\n",
    "* What data from particle collisions support the existence of the Higgs boson?\n",
    "\n",
    "### 🏷️ Activity\n",
    "\n",
    "1. Come up with three possible questions that could be answered using data science. Can you find a data set that could help answer one of them?\n",
    "\n",
    "1. Share your question and data set link in the discussion area below. Do you see any posts by other people with questions or data sets you could use in your classroom?\n",
    "\n",
    "Example question:\n",
    "\n",
    "*“How does Canada compare to other countries in the world? By looking at the data, we find that the gap between Canada and other countries we consider less developed isn’t as big as we might think. The Gapminder foundation has great data sources to explore about the world. For example, this dataset explores Gross Domestic Product of countries.”*\n",
    "\n",
    "### 🗣️ Discussion Board \n",
    "\n",
    "\n",
    "### Conclusion \n",
    "\n",
    "In this module, we have introduced data science and how it relates to education. The next module will have us using data, and will introduce Jupyter notebooks."
   ]
  },
  {
   "cell_type": "markdown",
   "id": "d55e408c-db2a-42bb-9426-fd5cf38946a4",
   "metadata": {},
   "source": [
    "[![Callysto.ca License](https://github.com/callysto/curriculum-notebooks/blob/master/callysto-notebook-banner-bottom.jpg?raw=true)](https://github.com/callysto/curriculum-notebooks/blob/master/LICENSE.md)"
   ]
  }
 ],
 "metadata": {
  "kernelspec": {
   "display_name": "Python 3 (ipykernel)",
   "language": "python",
   "name": "python3"
  },
  "language_info": {
   "codemirror_mode": {
    "name": "ipython",
    "version": 3
   },
   "file_extension": ".py",
   "mimetype": "text/x-python",
   "name": "python",
   "nbconvert_exporter": "python",
   "pygments_lexer": "ipython3",
   "version": "3.9.12"
  }
 },
 "nbformat": 4,
 "nbformat_minor": 5
}
