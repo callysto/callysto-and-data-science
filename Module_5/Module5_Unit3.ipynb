{
 "cells": [
  {
   "cell_type": "markdown",
   "id": "57f03a22-aedd-4fdd-ae79-af75722a3dd0",
   "metadata": {},
   "source": [
    "![Callysto.ca Banner](https://github.com/callysto/curriculum-notebooks/blob/master/callysto-notebook-banner-top.jpg?raw=true)"
   ]
  },
  {
   "cell_type": "markdown",
   "id": "9a711085-097f-460b-b501-b591f2bbc416",
   "metadata": {},
   "source": [
    "# Module 5 Unit 2  - Describing Trends\n",
    "\n",
    "Let's look at some different examples of trends. For this unit, we've generated line graphs using a population data set from the [Gapminder](https://www.gapminder.org/) website.\n",
    "\n",
    "### Explore\n",
    ">The [total population data set](https://www.gapminder.org/data/documentation/gd003/) explores the populations of different countries over time. This includes observations, estimates, and projections.\n",
    "\n",
    "*Population over Canada over time*\n",
    "\n",
    "*This line chart shows the population of Canada as it increases from near less than a million in year 1800 to about 50 million in year 2100. The data follow an S-curve, increasing rapidly between 1950 and 2020, then slowing in rate of increase.*\n",
    "\n",
    "This graph indicates an increase in the population of Canada over the time period shown.\n",
    "\n",
    "The slope (or steepness) of the line gives us an indication of the speed at which the population changes.\n",
    "\n",
    "A slope that indicates an upward trend, like the one in this graph, is called a **positive slope**.\n",
    "\n",
    "If the graph showed a decline, or a downward trend, it would be a **negative slope**.\n",
    "\n",
    "If we look closely, we can see that the slope of the line has varied from decade to decade. For example, around 1950 there was an increase in the slope of the line, which corresponds to the *[baby boom]*(https://en.wikipedia.org/wiki/Baby_boom) after World War II.\n",
    "\n",
    "Looking ahead to projections of the year 2100, we can see that the slope is expected to decrease—the population is still rising, but at a slower rate.\n",
    "\n",
    "Let’s look at another graph which compares Canada’s population over time to other countries in North America.\n",
    "\n",
    "*Population over time*\n",
    "\n",
    "*This line chart shows the populations of Canada, US and Mexico as they increases from year 1800 to 2100. Canada's population is expected to rise to about 50 million in 2100, Mexico to about 150 million, and US to about 450 million. Mexico shows a slight decrease in population for the period 2050 to 2100.*\n",
    "\n",
    "Again we see signs of the baby boom after World War II in all three countries shown.\n",
    "\n",
    "This graph also shows that the population of Mexico is projected to decrease after 2060. This might be an interesting projection to dig into as a future data science project.\n",
    "\n",
    "Let's look at another graph and compare Canada with some different countries that have more similar populations.\n",
    "\n",
    "*Population over time2*\n",
    "\n",
    "*This line chart shows the populations of six countries for the years 1800 to 2100. The countries are Argentina, Canada, Iran, Poland, South Africa and Thailand. Iran shows the biggest rise, peaking at about 95 million in 2050. Poland's plot shows the decrease in population due to deaths in World Wars I and II in the early 1900's.*\n",
    "\n",
    "Some of the most dramatic population information on this graph are the clear dips in Poland during each of the World Wars (1914-1918, and 1939-1945).\n",
    "\n",
    "We see projected population decreases for many of the countries displayed. However, projections using past data can be a tricky business. If we want to ignore the projections we can look at just the data from 1900 to 2020, which shows a much different overall picture. Try zooming in on the graph above by dragging a box over the years 1900-2020.\n",
    "\n",
    "Using this set of population data, we’ve been able to visualize and describe some interesting trends using just line graphs.\n",
    "\n",
    "In the next unit we’ll explore some other types of visualizations.\n",
    "\n",
    "### 🏁 Activity\n",
    "\n",
    "![calculator](../_images/Module5-Unit3-image.jpeg)\n",
    "\n",
    "What other trends in country populations can you find? Launch the Jupyter notebook for this unit by clicking the link below and logging into the account you used to access the Callysto Hub. This notebook shows how to create the graphs we just saw in the course, and also has some new items to explore on your own. Try modifying the code for the visualizations to compare different countries or focus on different time periods.\n",
    "\n",
    "\n",
    "#### Explore \n",
    ">Population Data\n",
    "\n",
    "Practice generating a few different visualizations and describing what you see.\n"
   ]
  },
  {
   "cell_type": "markdown",
   "id": "d55e408c-db2a-42bb-9426-fd5cf38946a4",
   "metadata": {},
   "source": [
    "[![Callysto.ca License](https://github.com/callysto/curriculum-notebooks/blob/master/callysto-notebook-banner-bottom.jpg?raw=true)](https://github.com/callysto/curriculum-notebooks/blob/master/LICENSE.md)"
   ]
  }
 ],
 "metadata": {
  "kernelspec": {
   "display_name": "Python 3 (ipykernel)",
   "language": "python",
   "name": "python3"
  },
  "language_info": {
   "codemirror_mode": {
    "name": "ipython",
    "version": 3
   },
   "file_extension": ".py",
   "mimetype": "text/x-python",
   "name": "python",
   "nbconvert_exporter": "python",
   "pygments_lexer": "ipython3",
   "version": "3.9.12"
  }
 },
 "nbformat": 4,
 "nbformat_minor": 5
}
