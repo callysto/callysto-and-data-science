{
 "cells": [
  {
   "cell_type": "markdown",
   "id": "57f03a22-aedd-4fdd-ae79-af75722a3dd0",
   "metadata": {},
   "source": [
    "![Callysto.ca Banner](https://github.com/callysto/curriculum-notebooks/blob/master/callysto-notebook-banner-top.jpg?raw=true)"
   ]
  },
  {
   "cell_type": "markdown",
   "id": "9a711085-097f-460b-b501-b591f2bbc416",
   "metadata": {},
   "source": [
    "# Module 5 Unit 2  - Identifying Trends in Data \n",
    "\n",
    "\n",
    "![calculator](../_images/Module5-Unit2-image.jpeg)\n",
    "\n",
    "\n",
    "Humans are wired to look for patterns of cause and effect in the world around us. These are a type of trend — an action leads to a consequence and the more effort that is applied to the action, the more pronounced the consequence becomes.\n",
    "\n",
    "For example, a student might expect to have a better test score the more hours they study for the exam. Or, a runner might expect to have faster times and more endurance as they continue to train.\n",
    "\n",
    "calculator and notepad placed on money\n",
    "\n",
    "Mathematical expressions can help us understand the relationship between our variables. As an example, suppose you're working in a restaurant and you discover that the more hours you work, the more tips you earn.\n",
    "\n",
    "Looking at the scatter plot below, we can see that you earn roughly 20 dollars in tips for each hour worked. This is a **linear** trend— that data points appear to roughly follow a straight line.\n",
    "\n",
    "![trend](../_images/Module5-Unit2-image1.png)\n",
    "\n",
    "*A scatter plot with 15 data points showing the relationship between tips received per hours work. The data follows a nearly linear trend, ranging from zero tips for zero hours, to $800 in tips for 40 hours worked. A red line indicates the best fit linear trend to the data.*\n",
    "\n",
    "The line is a **representation** of the trend. The data points don’t all fall exactly on this line—some customers tip more than others, and some hours have less customers. Still, it is useful to see the approximate relationship between the hours worked and total tips earned.\n",
    "\n",
    "![tip](../_images/Module5-Unit2-image2.jpeg)\n",
    "\n",
    "However not all trends are linear. For example, suppose you're training to be a weightlifter. Each week you train, you're able to lift more weight. At the beginning, you might see very impressive gains in the amount of weight you can lift. However as the weeks pass, your gains begin to slow.\n",
    "\n",
    "Plotting the weight lifted versus weeks trained might give you a graph like this:\n",
    "\n",
    "![weight](../_images/Module5-Unit2-image3.png)\n",
    "\n",
    "*A scatter plot with 25 data points showing the relationship between tips received per hours work. A red line indicates the best fit quadratic trend to the data.*\n",
    "\n",
    "In this case, a curved line seems to fit the data points better than a straight line. And the flattening out near week 50 demonstrates diminishing returns.\n",
    "\n",
    "Data scientists have employed a wide variety of curves when working with data. Whether a trend line is appropriate and how it is fit depends on what kind of data you're working with.\n",
    "\n",
    "![quadratic](../_images/Module5-Unit2-image4.png)\n",
    "\n",
    "*[“Curve Fitting”](https://xkcd.com/2048/) by [XKCD](https://xkcd.com/) is licensed under [CC BY-NC 2.5](https://creativecommons.org/licenses/by-nc/2.5/)*\n",
    "\n",
    "### Explore\n",
    ">This notebook contains more examples on visualizations with data. Log in to the account you previously used to access the Callysto Hub. Multiple Visualizations\n",
    "\n",
    "### 🏁 Activity\n",
    "\n",
    "Drag and Drop? \n",
    "\n"
   ]
  },
  {
   "cell_type": "markdown",
   "id": "d55e408c-db2a-42bb-9426-fd5cf38946a4",
   "metadata": {},
   "source": [
    "[![Callysto.ca License](https://github.com/callysto/curriculum-notebooks/blob/master/callysto-notebook-banner-bottom.jpg?raw=true)](https://github.com/callysto/curriculum-notebooks/blob/master/LICENSE.md)"
   ]
  }
 ],
 "metadata": {
  "kernelspec": {
   "display_name": "Python 3 (ipykernel)",
   "language": "python",
   "name": "python3"
  },
  "language_info": {
   "codemirror_mode": {
    "name": "ipython",
    "version": 3
   },
   "file_extension": ".py",
   "mimetype": "text/x-python",
   "name": "python",
   "nbconvert_exporter": "python",
   "pygments_lexer": "ipython3",
   "version": "3.9.12"
  }
 },
 "nbformat": 4,
 "nbformat_minor": 5
}
