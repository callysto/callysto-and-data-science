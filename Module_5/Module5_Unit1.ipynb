{
 "cells": [
  {
   "cell_type": "markdown",
   "id": "57f03a22-aedd-4fdd-ae79-af75722a3dd0",
   "metadata": {},
   "source": [
    "![Callysto.ca Banner](https://github.com/callysto/curriculum-notebooks/blob/master/callysto-notebook-banner-top.jpg?raw=true)"
   ]
  },
  {
   "cell_type": "markdown",
   "id": "9a711085-097f-460b-b501-b591f2bbc416",
   "metadata": {},
   "source": [
    "# Module 5 Unit 1  - Introduction \n",
    "\n",
    "\n",
    "![introduction](../_images/Module5-Unit1-image.jpeg)\n",
    "\n",
    "\n",
    "Now that we're familiar with some tools used for working with data, let’s talk about analyzing and interpreting data. Analyzing and interpreting data is a big topic. In this course, we're focusing on the basic descriptive analysis.\n",
    "\n",
    "The role of data analysis and interpretation is to summarize our findings into key points of information. This helps us to understand the elements that are most relevant to our needs and to make decisions based on those elements, rather than trying to absorb and use the mass of raw data on its own.\n",
    "\n",
    "person typing on a MacBook Pro\n",
    "\n",
    "For instance, suppose you were interested in applying for a job at a large enterprise and were curious about typical employee salaries. If you had access to a data set of current employee salaries, this information could tell you about what kind of salary you could expect if you landed the role.\n",
    "\n",
    "However, the data set for a large enterprise would likely contain a lot of entries. The data set could also include a wide variety of variables such as the role title, previous experience, years with the company, education, benefits package, vacation days and more.\n",
    "\n",
    "To see trends that are relevant to your needs and interests, you would need to do some analysis. Let’s say you computed the average salary of all employees and found it was $30,000 per year. Depending on what you're used to, this might sound like an okay starting salary. However with deeper inspection and the use of some data visualizations you could get a much more detailed idea of what to expect.\n",
    "\n",
    "As an example, consider these three histograms for salaries at three different companies:\n",
    "\n",
    "![company A](../_images/Module5-Unit1-image1.png)\n",
    "\n",
    "*A bar chart showing salary distribution in Company A. The three bars show very few employees at $10K, very few at $50K, and the vast majority at a salary of $30K.*\n",
    "\n",
    "![Company B](../_images/Module5-Unit1-image2.png)\n",
    "\n",
    "*A bar chart showing salary distribution in Company A. The three bars show very few employees at $30K, most are at either $10K or $50K.*\n",
    "\n",
    "![Company C](../_images/Module5-Unit1-image3.png)\n",
    "\n",
    "*A bar chart showing salary distribution in Company A. The salaries form normally distributed bell curve, with the centre at $30K, with range from $10K to $50K.*\n",
    "\n",
    "In Company A, we see most people earn $30,000 per year. This means you pretty much know what you'll earn if you work at Company A.\n",
    "\n",
    "In Company B, half the people make $10,000 per year and the other half make $50,000 per year. The average salary is still $30,000 per year for Company B. However, you might worry about taking a job there if you could end up in the low salary category.\n",
    "\n",
    "In Company C, there is a distribution of salaries — from $10,000 per year to $50,000 per year. Although you might start with a lower salary, there appears to be room for salary advancement in Company C.\n",
    "\n",
    "Different kinds of analysis can give us different ways to summarize about our data sets.\n",
    "\n",
    "**Statistical analysis**\n",
    ">Statistical analysis lets us extract specific numbers that summarize important information about a data set. This can include the average, the spread or range, the maximum and minimum, and so on.\n",
    "\n",
    "**Cluster analysis**\n",
    ">Cluster analysis helps us identify natural groupings of sample points in a data set. For instance, in Company B, a cluster analysis might reveal that particular types of roles — such as managers — make the higher salaries while everyone else has significantly lower salaries.\n",
    "\n",
    "**Trend analysis**\n",
    ">Trend analysis helps us to identify trends in the data. For instance, in Company C we might discover that higher salaries are correlated with more years of experience in that role.\n",
    "\n",
    "#### Reflection \n",
    "Imagine you had access to a data set of salary information about a company you wanted to work for.\n",
    "\n",
    "Think of some reasons why different people at the same company might make different salaries. Are there ways you could use statistical, cluster, or trend analysis to see if those hypotheses are playing out in the data the way you would expect?\n",
    "\n",
    "Are some of those reasons unfair? What patterns might you expect in a salary data set in a company that does not pay their employees in a way you agree with?\n",
    "\n"
   ]
  },
  {
   "cell_type": "markdown",
   "id": "d55e408c-db2a-42bb-9426-fd5cf38946a4",
   "metadata": {},
   "source": [
    "[![Callysto.ca License](https://github.com/callysto/curriculum-notebooks/blob/master/callysto-notebook-banner-bottom.jpg?raw=true)](https://github.com/callysto/curriculum-notebooks/blob/master/LICENSE.md)"
   ]
  }
 ],
 "metadata": {
  "kernelspec": {
   "display_name": "Python 3 (ipykernel)",
   "language": "python",
   "name": "python3"
  },
  "language_info": {
   "codemirror_mode": {
    "name": "ipython",
    "version": 3
   },
   "file_extension": ".py",
   "mimetype": "text/x-python",
   "name": "python",
   "nbconvert_exporter": "python",
   "pygments_lexer": "ipython3",
   "version": "3.9.12"
  }
 },
 "nbformat": 4,
 "nbformat_minor": 5
}
