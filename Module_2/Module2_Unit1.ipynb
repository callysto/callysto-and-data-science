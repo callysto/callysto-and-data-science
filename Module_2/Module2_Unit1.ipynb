{
 "cells": [
  {
   "cell_type": "markdown",
   "id": "57f03a22-aedd-4fdd-ae79-af75722a3dd0",
   "metadata": {},
   "source": [
    "![Callysto.ca Banner](https://github.com/callysto/curriculum-notebooks/blob/master/callysto-notebook-banner-top.jpg?raw=true)"
   ]
  },
  {
   "cell_type": "markdown",
   "id": "9a711085-097f-460b-b501-b591f2bbc416",
   "metadata": {},
   "source": [
    "# Module 1 Unit 1  - Data for a Better Worldview\n",
    "\n",
    "\n",
    "An important part of making good decisions is understanding where we are now, and how it’s different from where we’d like to be.\n",
    "\n",
    "mixing bowl on a table with eggs and flour\n",
    "\n",
    "Let's say we wanted to bake a cake. If we assume we have all the ingredients without checking, we might realize partway through that we need to make a trip to the store. We might even have to start over again!\n",
    "\n",
    "\n",
    "![cake](../_images/Module2-Unit1-image.jpeg)\n",
    "\n",
    "\n",
    "However, if we check our ingredients and supplies before baking, our cake is more likely to be a sweet success.\n",
    "\n",
    "Decisions and actions based on assumptions can not only lead to baking flops but also harm our daily efforts. For example, assumptions can lead to problems managing a business, designing policies, or ensuring kids get access to education that fits their learning.\n",
    "\n",
    "Assumptions are often the result of bias, which all humans are subject to. Biases can be the result of past experiences, upbringing, or social conditioning. However, the **negativity bias** seems universal. \n",
    "\n",
    "### Negativity bias\n",
    "\n",
    "\n",
    "Have you ever noticed the media tends to deliver more bad news than good? Journalists and editors have long been aware that negative reports are more likely to draw and keep our attention. As the saying goes: if it bleeds, it leads.\n",
    "\n",
    "Bad news, criticism, and unpleasant or traumatic experiences tend to have a greater impact on us than good experiences. We will tend to pay them more attention, remember them more easily, and weigh them more heavily when forming impressions of a person or circumstance.\n",
    "\n",
    "![media bias](../_images/Module2-Unit1-image1.jpeg)\n",
    "\n",
    "Researchers attribute this in part to hard-wired instincts which help to keep us safe; we tend to pay attention to perceived risks. Unfortunately, these same tendencies can impact our culture and happiness.\n",
    "\n",
    "People from all walks of life have a tendency to believe things are more dire than they actually are.\n",
    "\n",
    "The [Gapminder foundation](https://www.gapminder.org/), an independent organization dedicated to fighting misconceptions about global development, has repeatedly demonstrated that nearly everyone has deeply inaccurate beliefs about global levels of poverty, life expectancy, population, and education disparities between men and women.\n",
    "\n",
    "These beliefs have profound effects. They can influence our lifestyles, how we vote, what we value, and how much stress we carry. They impact the local and global economies, who gets aid money, and how development programs are designed.\n",
    "\n",
    "Being able to access and evaluate data about issues that inform our worldviews puts us in a position to address ignorance and live happier, more productive lives.\n",
    "\n",
    "\n",
    "### In the classroom and beyond\n",
    "\n",
    "The founders of Gapminder developed strategies for fostering a data-informed world view, which they called factfulness. At the centre is building a habit of exploring the underlying data when we encounter something that alarms us or grabs our attention.\n",
    "\n",
    "* \"Factfulness, like a healthy diet and regular exercise, can and should become part of your daily life. Start to practice it, and you will be able to replace your overdramatic worldview with a worldview based on facts.\" *~Factfulness: Ten Reasons We're Wrong About the World—and Why Things Are Better Than You Think, Rosling et Al (2018*\n",
    "\n",
    "In addition to the negativity bias, they identified nine other biases that can influence our assumptions. They created tools and exercises that can help teachers and students build a more accurate and positive worldview.\n",
    "\n",
    "### 📚 Read\n",
    ">[A Teacher's Guide to Factfulness](https://www.gapminder.org/wp-content/uploads/Factfulness-Teachers-Guide-Eng-181010.pdf) provides suggestions for using the Factfulness book in a classroom setting, and includes a lesson plan for discussing the **gap instinct** with students. \n",
    "\n",
    "### 🏷️ Key Word: Gap Instinct\n",
    ">The gap instinct is our tendency to divide things into two groups with an imagined gap between them—for example, us vs. them, and First World vs. Third World. \n",
    "\n",
    "### 🏁 Actvity\n",
    "\n",
    "Data can open our eyes to the world we live in and reveal our biases and beliefs. Let's test some basic knowledge about global populations and see if your general impressions match the data with the quiz below. \n",
    "\n",
    "This is an activity that can also be used in your classroom by following the [Factfulness Teachers Guide](https://1stdirectory.co.uk/_assets/files_comp/a3fb733f-9522-4329-a887-3bd31c863a1e.pdf) (Copyright © Carl-Johan Markstedt, Natur & Kultur, Gapminder) which is published under [CC BY-SA 4.0.](https://creativecommons.org/licenses/by-sa/4.0/) The quiz has been adapted from this guide, and if you are curious to learn more check out the [Factfulness book.](https://www.gapminder.org/factfulness-book/)\n",
    "\n",
    "### Conclusion\n",
    "\n",
    "\n",
    "We’ve learned about why it’s important to have data-informed world views. Next, we’ll explore where data comes from, what it looks like, and how it’s transforming the world we live in. "
   ]
  },
  {
   "cell_type": "markdown",
   "id": "d55e408c-db2a-42bb-9426-fd5cf38946a4",
   "metadata": {},
   "source": [
    "[![Callysto.ca License](https://github.com/callysto/curriculum-notebooks/blob/master/callysto-notebook-banner-bottom.jpg?raw=true)](https://github.com/callysto/curriculum-notebooks/blob/master/LICENSE.md)"
   ]
  }
 ],
 "metadata": {
  "kernelspec": {
   "display_name": "Python 3 (ipykernel)",
   "language": "python",
   "name": "python3"
  },
  "language_info": {
   "codemirror_mode": {
    "name": "ipython",
    "version": 3
   },
   "file_extension": ".py",
   "mimetype": "text/x-python",
   "name": "python",
   "nbconvert_exporter": "python",
   "pygments_lexer": "ipython3",
   "version": "3.9.12"
  }
 },
 "nbformat": 4,
 "nbformat_minor": 5
}
