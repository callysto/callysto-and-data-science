{
 "cells": [
  {
   "cell_type": "markdown",
   "id": "57f03a22-aedd-4fdd-ae79-af75722a3dd0",
   "metadata": {},
   "source": [
    "![Callysto.ca Banner](https://github.com/callysto/curriculum-notebooks/blob/master/callysto-notebook-banner-top.jpg?raw=true)"
   ]
  },
  {
   "cell_type": "markdown",
   "id": "9a711085-097f-460b-b501-b591f2bbc416",
   "metadata": {
    "tags": []
   },
   "source": [
    "# Final Project \n",
    "\n",
    "## Project summary\n",
    "\n",
    "In this final exercise you'll put what you've learned into practice. The goal of this project is for you to test your own ability to answer a question by analysing data inside Jupyter notebooks.\n",
    "\n",
    "Completing this project will reinforce key data science practices:\n",
    "\n",
    "* Identifying a source of data relevant to a question of interest\n",
    "* Cleaning the data\n",
    "* Visualizing the data\n",
    "* Interpreting the data\n",
    "\n",
    "\n",
    "Want feedback on your final project from the data science experts at Callysto? Submit your completed project to contact@callysto.ca. \n",
    "\n",
    "\n",
    "***\n",
    "## Outline \n",
    "\n",
    "Your project will take the form of a Jupyter notebook document with all of the following elements:\n",
    "\n",
    "1. A **title** that clearly communicates your project's topic and question.\n",
    "\n",
    "2. A short **description** of your project, including\n",
    "\n",
    "* The question(s) you are answering.\n",
    "* The data set(s) you are using (include the name of your data source and a link).\n",
    "* A link to the license of the data set(s) being used (if applicable).\n",
    "* An explanation of why you chose this problem, and a few sentences about your assumed audience and how familiar they already are with the subject matter.\n",
    "\n",
    "3. **Code** that others can re-use to reproduce your results.\n",
    "\n",
    "4. **Visualizations** that are clear, accessible and commented—a few lines describing what the reader should see are sufficient.\n",
    "\n",
    "5. A **conclusion**\n",
    "\n",
    "Make sure you connect your original questions with what you learned about the data set.\n",
    "Reinforce any important information you discovered while creating the notebook.\n",
    "To help you get started, we've provided a template Jupyter notebook: http://tinyurl.com/ycadxn24 \n",
    "\n",
    "Examples of completed final projects are available here:\n",
    "\n",
    "* [Exploring Gapminder Data](https://tinyurl.com/ybqf8fgl)\n",
    "* [Births, Deaths and Marriages in Canada](http://tinyurl.com/y9vw7vnr)\n",
    "\n",
    "***\n",
    "\n",
    "## Sharing your completed project\n",
    "\n",
    "Completed projects can be wonderful teaching tools inside the classroom! There are several ways to share your Jupyter notebook with students and colleagues."
   ]
  },
  {
   "cell_type": "markdown",
   "id": "d55e408c-db2a-42bb-9426-fd5cf38946a4",
   "metadata": {},
   "source": [
    "[![Callysto.ca License](https://github.com/callysto/curriculum-notebooks/blob/master/callysto-notebook-banner-bottom.jpg?raw=true)](https://github.com/callysto/curriculum-notebooks/blob/master/LICENSE.md)"
   ]
  }
 ],
 "metadata": {
  "kernelspec": {
   "display_name": "Python 3 (ipykernel)",
   "language": "python",
   "name": "python3"
  },
  "language_info": {
   "codemirror_mode": {
    "name": "ipython",
    "version": 3
   },
   "file_extension": ".py",
   "mimetype": "text/x-python",
   "name": "python",
   "nbconvert_exporter": "python",
   "pygments_lexer": "ipython3",
   "version": "3.9.12"
  }
 },
 "nbformat": 4,
 "nbformat_minor": 5
}
