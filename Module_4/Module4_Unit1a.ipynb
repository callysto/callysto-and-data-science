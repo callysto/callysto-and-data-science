{
 "cells": [
  {
   "cell_type": "markdown",
   "id": "57f03a22-aedd-4fdd-ae79-af75722a3dd0",
   "metadata": {},
   "source": [
    "![Callysto.ca Banner](https://github.com/callysto/curriculum-notebooks/blob/master/callysto-notebook-banner-top.jpg?raw=true)"
   ]
  },
  {
   "cell_type": "markdown",
   "id": "9a711085-097f-460b-b501-b591f2bbc416",
   "metadata": {
    "tags": []
   },
   "source": [
    "# Module 4 Unit 1a  - Advanced Data Visualizations\n",
    "\n",
    "Python is capable of producing nearly any kind of representation of data we can imagine. Let's explore other interesting data visualizations beyond the simple ones we explored in the last unit.\n",
    "\n",
    "While we won't walk through how to create these data visualizations, we'll include links to resources if you'd like to try working with them on your own.\n",
    "\n",
    "**Data visualizations included in this unit:**\n",
    "\n",
    "* Word clouds \n",
    "* Node diagrams\n",
    "* Animated data visualizations\n",
    "* 3D data visualizations\n",
    "\n",
    "### Word Clouds\n",
    "Word clouds, sometimes called [tag clouds](https://en.wikipedia.org/wiki/Tag_cloud) or text clouds, are a way to visually represent textual data.\n",
    "\n",
    "Word clouds consist of a jumbled collection or cloud of words displayed in different sizes. The size of the word is proportional to how often it appears in the data set. A word that is mentioned often will be larger than a word that appears less frequently.\n",
    "\n",
    "![Wordcloud](../_images/Module4-Unit1a-image.png)\n",
    "\n",
    "*Adapted from “An Interpretative Phenomenological Analysis of Telehealth Champions”, by DuBose-Morris, R. 2014. P. 77. Available from [https://www.researchgate.net/publication/270904354_An_Interpretative_Phenomenological_Analysis_of_Telehealth_Champions](https://www.researchgate.net/publication/270904354_An_Interpretative_Phenomenological_Analysis_of_Telehealth_Champions)*\n",
    "\n",
    "Word clouds can help us to quickly identify key words in a data set, compare how different data sets use words, and recognize themes or strong patterns.\n",
    "\n",
    "They're also visually interesting, and can be used to liven up a presentation or report.\n",
    "\n",
    "#### Explore\n",
    ">This Callysto tutorial describes how to create and customize the appearance of basic word clouds using Python code.\n",
    "\n",
    "### Node Diagrams\n",
    "\n",
    "Node diagrams — also called [network diagrams](https://www.data-to-viz.com/graph/network.html) — consist of nodes (also called *vertices*) presented as dots or circles, and *links* (also called edges) presented as lines or arrows.\n",
    "\n",
    "![Node Diagram](../_images/Module4-Unit1a-image1.png)\n",
    "\n",
    "*Adapted from Network Diagram in The Data Visualisation Catalogue, n.d. Retrieved from [https://datavizcatalogue.com/methods/network_diagram.html](https://datavizcatalogue.com/methods/network_diagram.html)*\n",
    "\n",
    "Each node represents an object, individual, or group. The links represent the relationship between them.\n",
    "\n",
    "#### Explore\n",
    ">This documentation explains how to create a node graph using the Python library NetworkX. [Network X Tutorial](https://networkx.github.io/documentation/stable/tutorial.html)\n",
    "\n",
    "### Animated Data Visualizations\n",
    "\n",
    "One way to visually represent data that changes over time is with animation. This is particularly helpful when a significant change in data is challenging to communicate in a single image.\n",
    "\n",
    "![animated data visualizations](../_images/Module4-Unit1a-image2.gif)\n",
    "\n",
    "*Reprinted from “Projection: #India overtaking #China as the world's most populous country” [Twitter Post], by Strandberg, A. 2015, November 25. Retrieved from [https://twitter.com/aronstrandberg/status/669679757735383041](https://twitter.com/aronstrandberg/status/669679757735383041)*\n",
    "\n",
    "![Animated Visualizations](../_images/Module4-Unit1a-image3.gif)\n",
    "\n",
    "[\"Wealth & Health of Nations\"](https://www.gapminder.org/tools/#$chart-type=bubbles) by [Gapminder](https://www.gapminder.org/) is licensed under [CC BY 3.0](https://creativecommons.org/licenses/by/3.0/).\n",
    "\n",
    "#### Explore\n",
    ">This short article demonstrates a method for animating a simple line graph using Python. [Creating Animated Graphs in Python](https://towardsdatascience.com/how-to-create-animated-graphs-in-python-bb619cc2dec1)\n",
    "\n",
    "### 3D Data Visualizations\n",
    "\n",
    "Most of the data visualizations we've explored present data in just two dimensions. Tricks like animation or modifying the shape and colour of elements can allow us to do more, but data is still presented primarily in two dimensions — with x and y axes.\n",
    "\n",
    "However, some visualizations can present data in three or even four dimensions.\n",
    "\n",
    "In the 3D scatter plot below, the variables sales, cost, and year are plotted against each other for a number of different products.\n",
    "\n",
    "Visualization #1\n",
    "\n",
    "This next visualization is considered 4D, because it maps colour onto a 3D surface to allow a fourth variable to be represented.\n",
    "\n",
    "Visualization #2\n",
    "\n",
    "#### Explore\n",
    ">This Jupyter notebook provides a quick introduction to 3D+ plotting with Plotly.\n",
    "\n",
    "#### 📚 Read\n",
    ">This short article describes some different methods for creating 3D data visualizations with Python.[An easy introduction to 3D plotting with Matplotlib](https://towardsdatascience.com/an-easy-introduction-to-3d-plotting-with-matplotlib-801561999725).\n",
    "\n",
    "\n",
    "### 🏁 Activity\n",
    "\n",
    "**Reflective questions**\n",
    "\n",
    "1. What kind of data visualizations would allow you to determine the frequency of words within text?\n",
    "\n",
    "1. What is one way you can represent the relationship between members in an organization and their roles using the visualizations we covered in this unit?\n",
    "\n",
    "Contribute to the discussion "
   ]
  },
  {
   "cell_type": "markdown",
   "id": "d55e408c-db2a-42bb-9426-fd5cf38946a4",
   "metadata": {},
   "source": [
    "[![Callysto.ca License](https://github.com/callysto/curriculum-notebooks/blob/master/callysto-notebook-banner-bottom.jpg?raw=true)](https://github.com/callysto/curriculum-notebooks/blob/master/LICENSE.md)"
   ]
  }
 ],
 "metadata": {
  "kernelspec": {
   "display_name": "Python 3 (ipykernel)",
   "language": "python",
   "name": "python3"
  },
  "language_info": {
   "codemirror_mode": {
    "name": "ipython",
    "version": 3
   },
   "file_extension": ".py",
   "mimetype": "text/x-python",
   "name": "python",
   "nbconvert_exporter": "python",
   "pygments_lexer": "ipython3",
   "version": "3.9.12"
  }
 },
 "nbformat": 4,
 "nbformat_minor": 5
}
